{
 "cells": [
  {
   "cell_type": "markdown",
   "id": "a3724497-b71f-4727-a241-4df0f1610d32",
   "metadata": {},
   "source": [
    "# Source Code - Image Steganography"
   ]
  },
  {
   "cell_type": "code",
   "execution_count": 65,
   "id": "c915a584-77bc-44b4-a8a0-224fb1082b20",
   "metadata": {},
   "outputs": [
    {
     "name": "stdout",
     "output_type": "stream",
     "text": [
      "\u001b[H\u001b[2J"
     ]
    },
    {
     "name": "stdin",
     "output_type": "stream",
     "text": [
      "\n",
      "Choose one:\n",
      "\n",
      "1. Encryption\n",
      "2. Decryption\n",
      ">> Decryption\n"
     ]
    },
    {
     "data": {
      "text/html": [
       "<pre style=\"white-space:pre;overflow-x:auto;line-height:normal;font-family:Menlo,'DejaVu Sans Mono',consolas,'Courier New',monospace\"><span style=\"color: #008080\">Image OS_Route </span><span style=\"color: #008080; font-weight: bold\">(</span><span style=\"color: #008080\">with extension</span><span style=\"color: #008080; font-weight: bold\">)</span><span style=\"color: #008080\">: </span>\n",
       "</pre>\n"
      ],
      "text/plain": [
       "<rich.jupyter.JupyterRenderable at 0x7fe6b2bf8be0>"
      ]
     },
     "metadata": {},
     "output_type": "display_data"
    },
    {
     "name": "stdin",
     "output_type": "stream",
     "text": [
      ">> eagle-stegano.png\n"
     ]
    },
    {
     "data": {
      "text/html": [
       "<pre style=\"white-space:pre;overflow-x:auto;line-height:normal;font-family:Menlo,'DejaVu Sans Mono',consolas,'Courier New',monospace\"><span style=\"color: #008080\">Enter password </span><span style=\"color: #008080; font-weight: bold\">(</span><span style=\"color: #008080\">leave empty if no password</span><span style=\"color: #008080; font-weight: bold\">)</span><span style=\"color: #008080\">: </span>\n",
       "</pre>\n"
      ],
      "text/plain": [
       "<rich.jupyter.JupyterRenderable at 0x7fe6b2bf8be0>"
      ]
     },
     "metadata": {},
     "output_type": "display_data"
    },
    {
     "name": "stdin",
     "output_type": "stream",
     "text": [
      ">> ········\n"
     ]
    },
    {
     "data": {
      "application/vnd.jupyter.widget-view+json": {
       "model_id": "",
       "version_major": 2,
       "version_minor": 0
      },
      "text/plain": [
       "Output()"
      ]
     },
     "metadata": {},
     "output_type": "display_data"
    },
    {
     "data": {
      "text/html": [
       "<pre style=\"white-space:pre;overflow-x:auto;line-height:normal;font-family:Menlo,'DejaVu Sans Mono',consolas,'Courier New',monospace\"></pre>\n"
      ],
      "text/plain": [
       "<rich.jupyter.JupyterRenderable at 0x7fe6d156aef0>"
      ]
     },
     "metadata": {},
     "output_type": "display_data"
    },
    {
     "data": {
      "text/html": [
       "<pre style=\"white-space:pre;overflow-x:auto;line-height:normal;font-family:Menlo,'DejaVu Sans Mono',consolas,'Courier New',monospace\">\n",
       "</pre>\n"
      ],
      "text/plain": [
       "<rich.jupyter.JupyterRenderable at 0x7fe6b111bc70>"
      ]
     },
     "metadata": {},
     "output_type": "display_data"
    },
    {
     "data": {
      "text/html": [
       "<pre style=\"white-space:pre;overflow-x:auto;line-height:normal;font-family:Menlo,'DejaVu Sans Mono',consolas,'Courier New',monospace\">cipher :  t7XxyzitfKN377nK7leYNQR6BvpECQXP+glyF6PZdg85OlRy+rbZB6kyyAxnn6e3XHIPyZopAH+GFWKIezZ\n",
       "aTz7fIW/M899j5wiCAweUy4u9vak3N1mGSmtLJ1JU2KyRC17juqkp6Keu9Lixt3NP5sG42CDyLGnB/inOMyzbVI68W7S0\n",
       "EAWWDpFXkZfmQlE4XGIhRWhjsS3b9e7v4pur4/9QDtJLRdstr1FcNN4zFWls808dKvS3ifwP+dJMDBCQC85R7QqyG/xhc\n",
       "BKBo0ol5GQbfgXyPEFWvPwWI12NVAoiiVWKJMSdu6he94pyOTsi4CZFeeRTptkyKRBKEmI3VlTUAc9RiMKLIdQQNUL2hq\n",
       "+yPzTvqP0pTEv4ZRsDW94d5R+TVVNlClznftX0ytQRP6AJyoPa5CfFFquLkpNWCbrx74Hme8/sSgIcjEmNyZAkWItIRHp\n",
       "LWBcmofjTzM4fJ4yeNTgo9Nipw7c/VNl7c3tgYqkV+UnUyXW+fbF6Y9ucjreLQSxBsJzGyt5PiyLD3U8Ap8TJAVH/isvT\n",
       "IWW3SwiTzez3CLT3EcmgoBd8Y9lkn1PoRlxBRv0vBu6orHXUMGPJxuA985GbxAhPhjFGh73BbCgao94KV5vRO2Awc+V5Z\n",
       "jbC6/+Ov7sEq5pkEpefQmmKl8h+cDWg38F1Vc0SH0jXAzF+fbfiBM/QWJST4G4wzCtOQjPYObxBiHWgjVo9QNItloDTIW\n",
       "TtD6RFQO8v0YLn+96Yk5txoqi8JPu3boYCADVwVwFSKLM8MDBAy3stDl+OjcBmKgC7GhJ3WhMde+Dme2EJ6QItpK6h0w+\n",
       "SRkVa+w4ksQ2G6caowr5SLxzOi/ZiBYSH9lKLmPgMj9VLrvPfm8IlbUHFee+qjLJOWdC7QMk8ZagZpxLlw5jpbMJj5LWu\n",
       "XDuUSvxribGQWmuQPsklaDHQjqLt4vu8OjuilXJGB5be7o/3Ql5FVhuGOVfhI8MJEBqjvseCmBrpGc28jgDj7Lkp0XDK8\n",
       "JwaVrWTm/TRp1DuyITe/<span style=\"color: #808000\">9vLyfjRDUfb0kwAatnj1icCz9tvyhLcwP0</span>=\n",
       "</pre>\n"
      ],
      "text/plain": [
       "<rich.jupyter.JupyterRenderable at 0x7fe6b111bf10>"
      ]
     },
     "metadata": {},
     "output_type": "display_data"
    },
    {
     "data": {
      "text/html": [
       "<pre style=\"white-space:pre;overflow-x:auto;line-height:normal;font-family:Menlo,'DejaVu Sans Mono',consolas,'Courier New',monospace\"><span style=\"color: #008000\">Decrypted Text: </span>\n",
       "<span style=\"color: #008000; font-weight: bold\">b\"Our project's problem statement is concealing text data or information in a graphical file </span>\n",
       "<span style=\"color: #008000; font-weight: bold\">(any format of image file or video recording). In recent research practices, steganography  </span>\n",
       "<span style=\"color: #008000; font-weight: bold\">has been emerging quite decently. Steganography in natural language aims to conceal  </span>\n",
       "<span style=\"color: #008000; font-weight: bold\">confidential material by subtly integrating it into the protection such that changes are  </span>\n",
       "<span style=\"color: #008000; font-weight: bold\">undetectable when the stego-carrier data is retrieved. In our project, we have been dealing  </span>\n",
       "<span style=\"color: #008000; font-weight: bold\">with a steganography scheme to embed confidential messages in a random image pixel along with</span>\n",
       "<span style=\"color: #008000; font-weight: bold\">the techniques of encryption and decryption programs. The border goal of our team project is </span>\n",
       "<span style=\"color: #008000; font-weight: bold\">to make the image a secret message that can encrypt and decrypt the text message/information </span>\n",
       "<span style=\"color: #008000; font-weight: bold\">merged into that image.\"</span>\n",
       "</pre>\n"
      ],
      "text/plain": [
       "<rich.jupyter.JupyterRenderable at 0x7fe6b111bf10>"
      ]
     },
     "metadata": {},
     "output_type": "display_data"
    }
   ],
   "source": [
    "from PIL import Image\n",
    "import os\n",
    "from os import path as OS_Route\n",
    "from Crypto.Cipher import AES as adv_en\n",
    "from Crypto.Hash import SHA256 as hashing\n",
    "from Crypto import Random as ZigZag\n",
    "import base64 as B64\n",
    "from rich import print\n",
    "from rich.console import Console as con\n",
    "import getpass as gp\n",
    "import sys\n",
    "\n",
    "\n",
    "headerText = \"M6nMjy5THr2J\"\n",
    "\n",
    "\n",
    "def text_ency(hash_rep, initiation):\n",
    "    hash_rep = hashing.new(hash_rep).digest()  \n",
    "    AES_en = ZigZag.new().read(adv_en.block_size)  \n",
    "    enc = adv_en.new(hash_rep, adv_en.MODE_CBC, AES_en)\n",
    "    block_rep = adv_en.block_size - len(initiation) % adv_en.block_size  \n",
    "    initiation += bytes([block_rep]) * block_rep  \n",
    "    raw_text = AES_en + enc.encrypt(initiation)  # encryption\n",
    "    return B64.b64encode(raw_text).decode() if True else raw_text\n",
    "\n",
    "def text_decy(hash_rep, initiation):\n",
    "    if True:initiation = B64.b64decode(initiation.encode())\n",
    "    hash_rep = hashing.new(hash_rep).digest()  \n",
    "    AES_en = initiation[:adv_en.block_size]  \n",
    "    dec = adv_en.new(hash_rep, adv_en.MODE_CBC, AES_en)\n",
    "    raw_text = dec.decrypt(initiation[adv_en.block_size:])  # decryption\n",
    "    block_rep = raw_text[-1]  \n",
    "    if raw_text[-block_rep:] != bytes([block_rep]) * block_rep:  \n",
    "        raise ValueError(\"Invalid block_rep...\")\n",
    "    return raw_text[:-block_rep]  \n",
    "\n",
    "def Color_Conversion(Pic):\n",
    "\ttry:\n",
    "\t\tPicture = Pic\n",
    "\t\tPicture.load()\n",
    "\t\tcoloring = Image.new(\"RGB\", Picture.size, (255, 255, 255))\n",
    "\t\tcoloring.paste(Picture, mask = Picture.split()[3])\n",
    "\t\tprint(\"[yellow]Converted image to RGB [/yellow]\")\n",
    "\t\treturn coloring\n",
    "\texcept Exception as e:\n",
    "\t\tprint(\"[red]Couldn't convert image to RGB [/red]- %s\"%e)\n",
    "\n",
    "def No_of_Pixels(Pic):\n",
    "\tbreadth, length = Image.open(Pic).size\n",
    "\treturn breadth*length\n",
    "\n",
    "\n",
    "\n",
    "def Enc_Pic(image, textual_input, container):\n",
    "\twith con().status(\"[green]Encoding image..\") as status:\n",
    "\t\ttry:\n",
    "\t\t\tbreadth, length = image.size\n",
    "\t\t\tpix = image.getdata()\n",
    "\t\t\tinp_pix, temporary, x, y = 0, 0, 0, 0\n",
    "\t\t\t\n",
    "\t\t\tfor token in textual_input:\n",
    "\t\t\t\t\n",
    "\t\t\t\tcombined_pix = [pix_transition for pix_transition in (pix[inp_pix]) + (pix[inp_pix + 1]) + (pix[inp_pix + 2])]\n",
    "\n",
    "\t\t\t\tfor i in range(0,8):\n",
    "\t\t\t\t\tcurrent_bit = format(ord(token), '08b')[i]\n",
    "\t\t\t\t\tif current_bit == '0': # 0 -> even\n",
    "\t\t\t\t\t\tif combined_pix[i] % 2 != 0:\n",
    "\t\t\t\t\t\t\tcombined_pix[i] = combined_pix[i] - 1 if combined_pix[i]==255 else combined_pix[i] + 1\n",
    "\t\t\t\t\telif current_bit == '1': # 1 -> odd\n",
    "\t\t\t\t\t\tif combined_pix[i] % 2 == 0:\n",
    "\t\t\t\t\t\t\tcombined_pix[i] = combined_pix[i] - 1 if combined_pix[i] == 255 else combined_pix[i] + 1\n",
    "\n",
    "\t\t\t\tinp_pix += 3\n",
    "\t\t\t\ttemporary += 1\n",
    "\n",
    "\t\t\t\t#Set 9th value\n",
    "\t\t\t\tif(temporary == len(textual_input)):\n",
    "\t\t\t\t\t# Make as 1 (odd) - stop reading\n",
    "\t\t\t\t\tif combined_pix[-1] % 2 == 0:\n",
    "\t\t\t\t\t\tcombined_pix[-1] = combined_pix[-1] - 1 if combined_pix[-1] == 255 else combined_pix[-1] + 1\n",
    "\t\t\t\telse:\n",
    "\t\t\t\t\t# Make as 0 (even) - continue reading\n",
    "\t\t\t\t\tif combined_pix[-1] % 2 != 0:\n",
    "\t\t\t\t\t\tcombined_pix[-1] = combined_pix[-1] - 1 if combined_pix[-1] == 255 else combined_pix[-1] + 1\n",
    "\n",
    "\t\t\t\tif False:\n",
    "\t\t\t\t\tprint(\"\\n\", f'Token: {token}', \"\\n\\n\", \"Binary: \",format(ord(token), '08b'), \"\\n\\n\", f'Three pixels before mod: {combined_pix}', \"\\n\\n\", f'Three pixels after mod: {combined_pix}')\n",
    "\t\t\t\t\n",
    "\t\t\t\tcombined_pix = tuple(combined_pix)\n",
    "\t\t\t\t\n",
    "\t\t\t\tinitial, final = 0, 3\n",
    "\n",
    "\t\t\t\tfor i in range(0,3):\n",
    "\t\t\t\t\tif False:\n",
    "\t\t\t\t\t\tprint(\"Putting pixel at \",(x,y),\" to \",combined_pix[initial:final])\n",
    "\n",
    "\t\t\t\t\timage.putpixel((x,y), combined_pix[initial:final])\n",
    "\t\t\t\t\tinitial += 3\n",
    "\t\t\t\t\tfinal += 3\n",
    "\n",
    "\t\t\t\t\tif (x == breadth - 1):\n",
    "\t\t\t\t\t\tx = 0\n",
    "\t\t\t\t\t\ty += 1\n",
    "\t\t\t\t\telse:\n",
    "\t\t\t\t\t\tx += 1\n",
    "\n",
    "\t\t\tencoded_container = container.split('.')[0] + \"-stegano.png\"\n",
    "\t\t\timage.save(encoded_container)\n",
    "\t\t\tprint(\"\\n\")\n",
    "\t\t\tprint(\"[yellow]Original File: [u]%s[/u][/yellow]\"%container)\n",
    "\t\t\tprint(\"[green]Image encoded and saved as [u][bold]%s[/green][/u][/bold]\"%encoded_container)\n",
    "\n",
    "\t\texcept Exception as e:\n",
    "\t\t\tprint(\"[red]An error occured - [/red]%s\"%e)\n",
    "\t\t\tsys.exit(0)\n",
    "\n",
    "\n",
    "\n",
    "def Dec_Pic(image):\n",
    "\twith con().status(\"[green]Decoding image..\") as status:\n",
    "\t\ttry:\n",
    "\t\t\tpix = image.getdata()\n",
    "\t\t\tinp_pix = 0\n",
    "\t\t\tDecry_Text = \"\"\n",
    "\n",
    "\t\t\twhile True:\n",
    "\t\t\t\t# Get 3 pixels each time\n",
    "\t\t\t\tbase2 = \"\"\n",
    "\t\t\t\tcombined_pix = [pix_transition for pix_transition in (pix[inp_pix]) + (pix[inp_pix + 1]) + (pix[inp_pix + 2])]\n",
    "\n",
    "\t\t\t\tfor i in range(0,8):\n",
    "\n",
    "\t\t\t\t\tif combined_pix[i] % 2 == 0:\n",
    "\t\t\t\t\t\t\n",
    "\t\t\t\t\t\tbase2 += \"0\" # add 0\n",
    "\n",
    "\t\t\t\t\telif combined_pix[i] % 2 != 0:\n",
    "\t\t\t\t\t\t\n",
    "\t\t\t\t\t\tbase2 += \"1\" # add 1\n",
    "\n",
    "\n",
    "\t\t\t\t#Convert binary value to ascii and add to string\n",
    "\n",
    "\t\t\t\tbase2.strip()\n",
    "\t\t\t\talphabetical = int(base2, 2)\n",
    "\t\t\t\tDecry_Text += chr(alphabetical)\n",
    "\t\t\t\tinp_pix += 3\n",
    "\n",
    "\t\t\t\tif False:\n",
    "\t\t\t\t\tprint(\"\\n\\n\", f'Binary: {base2}', \"\\n\\n\", f'Ascii: {alphabetical}', \"\\n\\n\", f'Character: {chr(alphabetical)}')\n",
    "\n",
    "\t\t\t\tif combined_pix[-1] % 2 != 0:\n",
    "\t\t\t\t\t# stop reading\n",
    "\t\t\t\t\tbreak\n",
    "\n",
    "\t\t\treturn Decry_Text\n",
    "\n",
    "\t\texcept Exception as e:\n",
    "\t\t\tprint(\"[red]An error occured - [/red]%s\"%e)\n",
    "\t\t\tsys.exit()\n",
    "\n",
    "def main():\n",
    "\tuser_selection = input(\"\\nChoose one:\\n\\n1. Encryption\\n2. Decryption\\n>>\").lower()\n",
    "\n",
    "\tif user_selection == \"1\" or user_selection == \"encryption\":\n",
    "\t\tprint(\"[cyan]Image OS_Route (with extension): [/cyan]\")\n",
    "\t\tPic = input(\">>\")\n",
    "\t\tif(not(OS_Route.exists(Pic))):\n",
    "\t\t\traise Exception(\"Image not found!\")\n",
    "\n",
    "\t\t\n",
    "\t\tprint(\"[cyan]textual_input to be hidden: [/cyan]\")\n",
    "\t\ttextual_input = input(\">>\")\n",
    "\t\ttextual_input = headerText + textual_input\n",
    "\t\tif((len(textual_input)+len(headerText))*3 > No_of_Pixels(Pic)):\n",
    "\t\t\traise Exception(\"GAES_enen textual_input is too long to be encoded in the image.\")\n",
    "\n",
    "\n",
    "\t\tpassword=\"\"\n",
    "\t\twhile 1:\n",
    "\t\t\tprint(\"[cyan]Password to encrypt (leave empty if you want no password): [/cyan]\")\n",
    "\t\t\tpassword = gp.getpass(\">>\")\n",
    "\t\t\tif password==\"\":\n",
    "\t\t\t\tbreak\n",
    "\t\t\tprint(\"[cyan]Re-enter Password: [/cyan]\")\n",
    "\t\t\tconfirm_password = gp.getpass(\">>\")\n",
    "\t\t\tif(password!=confirm_password):\n",
    "\t\t\t\tprint(\"[red]Passwords don't match try again [/red]\")\n",
    "\t\t\telse:\n",
    "\t\t\t\tbreak\n",
    "\n",
    "\t\tcipher=\"\"\n",
    "\t\tif password!=\"\":\n",
    "\t\t\tcipher = text_ency(hash_rep=password.encode(),initiation=textual_input.encode())\n",
    "\t\t\t# Add header to cipher\n",
    "\t\t\tcipher = headerText + cipher\n",
    "\t\telse:\n",
    "\t\t\tcipher = textual_input\n",
    "\n",
    "\n",
    "\t\tif False:\n",
    "\t\t\tprint(\"[yellow]Encrypted : [/yellow]\",cipher)\n",
    "\n",
    "\t\timage = Image.open(Pic)\n",
    "\t\tprint(\"[yellow]Image Mode: [/yellow]%s\"%image.mode)\n",
    "\t\tif image.mode!='RGB':\n",
    "\t\t\timage = Color_Conversion(image)\n",
    "\t\tnewPic = image.copy()\n",
    "\t\tEnc_Pic(image=newPic,textual_input=cipher,container=image.filename)\n",
    "\n",
    "\telif user_selection == \"2\" or user_selection == \"decryption\":\n",
    "\t\tprint(\"[cyan]Image OS_Route (with extension): [/cyan]\")\n",
    "\t\tPic = input(\">>\")\n",
    "\t\tif(not(OS_Route.exists(Pic))):\n",
    "\t\t\traise Exception(\"Image not found!\")\n",
    "\n",
    "\t\tprint(\"[cyan]Enter password (leave empty if no password): [/cyan]\")\n",
    "\t\tpassword = gp.getpass(\">>\")\n",
    "\n",
    "\t\timage = Image.open(Pic)\n",
    "\n",
    "\t\tcipher = Dec_Pic(image)\n",
    "\n",
    "\n",
    "\t\theader = cipher[:len(headerText)]\n",
    "\n",
    "\t\tif header.strip()!=headerText:\n",
    "\t\t\tprint(\"[red]Invalid data![/red]\")\n",
    "\t\t\tsys.exit(0)\n",
    "\n",
    "\n",
    "\t\tprint()\n",
    "\n",
    "\t\tif False:\n",
    "\t\t\tprint(\"[yellow]Decrypted text: %s[/yellow]\"%cipher)\n",
    "\n",
    "\t\tdecrypted=\"\"\n",
    "\n",
    "\t\tif password!=\"\":\n",
    "\t\t\tcipher = cipher[len(headerText):]\n",
    "\t\t\tprint(\"cipher : \",cipher)\n",
    "\t\t\ttry:\n",
    "\t\t\t\tdecrypted = text_decy(hash_rep=password.encode(),initiation=cipher)\n",
    "\t\t\texcept Exception as e:\n",
    "\t\t\t\tprint(\"[red]Wrong password![/red]\")\n",
    "\t\t\t\tsys.exit(0)\n",
    "\n",
    "\t\telse:\n",
    "\t\t\tdecrypted=cipher\n",
    "\n",
    "\n",
    "\t\theader = decrypted.decode()[:len(headerText)]\n",
    "\n",
    "\t\tif header!=headerText:\n",
    "\t\t\tprint(\"[red]Wrong password![/red]\")\n",
    "\t\t\tsys.exit(0)\n",
    "\n",
    "\t\tdecrypted = decrypted[len(headerText):]\n",
    "\n",
    "\n",
    "\n",
    "\t\tprint(\"[green]Decrypted Text: \\n[bold]%s[/bold][/green]\"%decrypted)\n",
    "\n",
    "\n",
    "if __name__ == \"__main__\":\n",
    "\tos.system('cls' if os.name == 'nt' else 'clear')\n",
    "\t\n",
    "\tmain()"
   ]
  },
  {
   "cell_type": "markdown",
   "id": "e84a5af1-7028-4d76-82c0-1fd417fe82d0",
   "metadata": {},
   "source": [
    "# Evaluation Metrics"
   ]
  },
  {
   "cell_type": "code",
   "execution_count": 100,
   "id": "957e716d-ed2d-4456-9b4a-0e89f8d38ad9",
   "metadata": {},
   "outputs": [
    {
     "data": {
      "text/html": [
       "<pre style=\"white-space:pre;overflow-x:auto;line-height:normal;font-family:Menlo,'DejaVu Sans Mono',consolas,'Courier New',monospace\">Original Image in Bytes: <span style=\"color: #000080; font-weight: bold\">303371</span>\n",
       "</pre>\n"
      ],
      "text/plain": [
       "<rich.jupyter.JupyterRenderable at 0x7fe6b286b610>"
      ]
     },
     "metadata": {},
     "output_type": "display_data"
    },
    {
     "data": {
      "text/html": [
       "<pre style=\"white-space:pre;overflow-x:auto;line-height:normal;font-family:Menlo,'DejaVu Sans Mono',consolas,'Courier New',monospace\">Encrypted Stegano-Image in Bytes: <span style=\"color: #000080; font-weight: bold\">2307796</span>\n",
       "</pre>\n"
      ],
      "text/plain": [
       "<rich.jupyter.JupyterRenderable at 0x7fe6b286b610>"
      ]
     },
     "metadata": {},
     "output_type": "display_data"
    },
    {
     "data": {
      "text/html": [
       "<pre style=\"white-space:pre;overflow-x:auto;line-height:normal;font-family:Menlo,'DejaVu Sans Mono',consolas,'Courier New',monospace\">Compression Rate: <span style=\"color: #000080; font-weight: bold\">23.236430301087594</span> %\n",
       "</pre>\n"
      ],
      "text/plain": [
       "<rich.jupyter.JupyterRenderable at 0x7fe6b1127520>"
      ]
     },
     "metadata": {},
     "output_type": "display_data"
    },
    {
     "data": {
      "text/html": [
       "<pre style=\"white-space:pre;overflow-x:auto;line-height:normal;font-family:Menlo,'DejaVu Sans Mono',consolas,'Courier New',monospace\">Bits per Pixel: <span style=\"color: #000080; font-weight: bold\">2.6666666666666665</span>\n",
       "</pre>\n"
      ],
      "text/plain": [
       "<rich.jupyter.JupyterRenderable at 0x7fe6b11249d0>"
      ]
     },
     "metadata": {},
     "output_type": "display_data"
    },
    {
     "data": {
      "text/html": [
       "<pre style=\"white-space:pre;overflow-x:auto;line-height:normal;font-family:Menlo,'DejaVu Sans Mono',consolas,'Courier New',monospace\">MSE: <span style=\"color: #000080; font-weight: bold\">0.3471754436728395</span>\n",
       "</pre>\n"
      ],
      "text/plain": [
       "<rich.jupyter.JupyterRenderable at 0x7fe6b1125270>"
      ]
     },
     "metadata": {},
     "output_type": "display_data"
    },
    {
     "data": {
      "text/html": [
       "<pre style=\"white-space:pre;overflow-x:auto;line-height:normal;font-family:Menlo,'DejaVu Sans Mono',consolas,'Courier New',monospace\">Peak Sigal to Noise Ratio - PSNR: <span style=\"color: #000080; font-weight: bold\">52.703233923299706</span>\n",
       "</pre>\n"
      ],
      "text/plain": [
       "<rich.jupyter.JupyterRenderable at 0x7fe6b286ba00>"
      ]
     },
     "metadata": {},
     "output_type": "display_data"
    },
    {
     "data": {
      "text/html": [
       "<pre style=\"white-space:pre;overflow-x:auto;line-height:normal;font-family:Menlo,'DejaVu Sans Mono',consolas,'Courier New',monospace\">Difference between two images according to ImageChops: <span style=\"font-weight: bold\">&lt;</span><span style=\"color: #ff00ff; font-weight: bold\">PIL.Image.Image</span><span style=\"color: #000000\"> image </span><span style=\"color: #808000\">mode</span><span style=\"color: #000000\">=</span><span style=\"color: #800080\">RGB</span><span style=\"color: #000000\"> </span>\n",
       "<span style=\"color: #808000\">size</span><span style=\"color: #000000\">=</span><span style=\"color: #800080\">192</span><span style=\"color: #000080; font-weight: bold\">0x1080</span><span style=\"color: #000000\"> at </span><span style=\"color: #000080; font-weight: bold\">0x7FE6B2BE7130</span><span style=\"font-weight: bold\">&gt;</span>\n",
       "</pre>\n"
      ],
      "text/plain": [
       "<rich.jupyter.JupyterRenderable at 0x7fe6b1125270>"
      ]
     },
     "metadata": {},
     "output_type": "display_data"
    }
   ],
   "source": [
    "import cv2\n",
    "from PIL import Image, ImageChops\n",
    "import numpy as np\n",
    "\n",
    "original_image_file = Image.open('eagle.jpg')\n",
    "original_img_size = len(original_image_file.fp.read())\n",
    "print(f\"Original Image in Bytes: {original_img_size}\")\n",
    "\n",
    "en_image_file = Image.open('eagle-stegano.png')\n",
    "en_img_size = len(en_image_file.fp.read())\n",
    "print(f\"Encrypted Stegano-Image in Bytes: {en_img_size}\")\n",
    "\n",
    "compression_percentage = 100 - ((en_img_size - original_img_size)/(en_img_size + original_img_size))*100\n",
    "print(f\"Compression Rate: {compression_percentage} %\")\n",
    "\n",
    "text = \"Our project's problem statement is concealing text data or information in a graphical file (any format of image file or video recording). In recent research practices, steganography  has been emerging quite decently. Steganography in natural language aims to conceal  confidential material by subtly integrating it into the protection such that changes are  undetectable when the stego-carrier data is retrieved. In our project, we have been dealing  with a steganography scheme to embed confidential messages in a random image pixel along withthe techniques of encryption and decryption programs. The border goal of our team project is to make the image a secret message that can encrypt and decrypt the text message/information merged into that image.\"\n",
    "len_text = len(text)\n",
    "total_pixels = len_text * 3\n",
    "total_bits = len_text * 8\n",
    "BPP = total_bits/total_pixels\n",
    "print(\"Bits per Pixel:\", BPP)\n",
    "\n",
    "from math import log10, sqrt\n",
    "import cv2\n",
    "import numpy as np\n",
    "\n",
    "# def PSNR(original, compressed):\n",
    "# \tmse = np.mean((original - compressed) ** 2)\n",
    "# \tif(mse == 0): # MSE is zero means no noise is present in the signal .\n",
    "# \t\t\t\t# Therefore PSNR have no importance.\n",
    "# \t\treturn 100\n",
    "# \tmax_pixel = 255.0\n",
    "# \tpsnr = 20 * log10(max_pixel / sqrt(mse))\n",
    "# \treturn psnr\n",
    "\n",
    "# def main():\n",
    "# \toriginal = cv2.imread(\"original_image.png\")\n",
    "# \tcompressed = cv2.imread(\"compressed_image.png\", 1)\n",
    "# \tvalue = PSNR(original, compressed)\n",
    "# \tprint(f\"PSNR value is {value} dB\")\n",
    "\t\n",
    "# if __name__ == \"__main__\":\n",
    "# \tmain()\n",
    "\n",
    "img1 = cv2.imread('eagle.jpg')\n",
    "img2 = cv2.imread('eagle-stegano.png')\n",
    "\n",
    "Y = np.square(np.subtract(img2,img1)).mean()\n",
    "print(\"MSE:\", Y)\n",
    "\n",
    "psnr = cv2.PSNR(img1, img2)\n",
    "print(\"Peak Sigal to Noise Ratio - PSNR:\", psnr)\n",
    "\n",
    "im1 = Image.open(\"eagle.jpg\")\n",
    "im2 = Image.open(\"eagle-stegano.png\")\n",
    "\n",
    "diff = ImageChops.difference(im2, im1)\n",
    "print(\"Difference between two images according to ImageChops:\", diff)"
   ]
  },
  {
   "cell_type": "code",
   "execution_count": null,
   "id": "c42a2c60-1684-4bee-92f1-9a3c829e0cb4",
   "metadata": {},
   "outputs": [],
   "source": []
  }
 ],
 "metadata": {
  "kernelspec": {
   "display_name": "Python 3 (ipykernel)",
   "language": "python",
   "name": "python3"
  },
  "language_info": {
   "codemirror_mode": {
    "name": "ipython",
    "version": 3
   },
   "file_extension": ".py",
   "mimetype": "text/x-python",
   "name": "python",
   "nbconvert_exporter": "python",
   "pygments_lexer": "ipython3",
   "version": "3.10.6"
  }
 },
 "nbformat": 4,
 "nbformat_minor": 5
}
